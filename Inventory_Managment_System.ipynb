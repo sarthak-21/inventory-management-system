{
  "nbformat": 4,
  "nbformat_minor": 0,
  "metadata": {
    "colab": {
      "name": "Inventory Managment System.ipynb",
      "provenance": []
    },
    "kernelspec": {
      "name": "python3",
      "display_name": "Python 3"
    },
    "language_info": {
      "name": "python"
    }
  },
  "cells": [
    {
      "cell_type": "markdown",
      "metadata": {
        "id": "Beey7if-15CV"
      },
      "source": [
        "# Inventory Management System\n",
        "#### Submitted by Sarthak Luthra.\n",
        "Read the comments to understand the code."
      ]
    },
    {
      "cell_type": "code",
      "metadata": {
        "id": "SJiTPHZsXyqK"
      },
      "source": [
        "import json\n",
        "from time import gmtime, strftime\n",
        "fd = open('record.json', 'r')\n",
        "r = fd.read()\n",
        "fd.close()"
      ],
      "execution_count": 11,
      "outputs": []
    },
    {
      "cell_type": "code",
      "metadata": {
        "id": "bk85pkErcI7k"
      },
      "source": [
        "#Converting json in dict\n",
        "record = json.loads(r)"
      ],
      "execution_count": 12,
      "outputs": []
    },
    {
      "cell_type": "code",
      "metadata": {
        "id": "J9qVX8x7e2MZ"
      },
      "source": [
        "fs = open('sales.json', 'r')\n",
        "p = fs.read()\n",
        "fs.close()"
      ],
      "execution_count": 13,
      "outputs": []
    },
    {
      "cell_type": "code",
      "metadata": {
        "id": "IAQogdR61Rau"
      },
      "source": [
        "sales = json.loads(p)"
      ],
      "execution_count": 14,
      "outputs": []
    },
    {
      "cell_type": "code",
      "metadata": {
        "colab": {
          "base_uri": "https://localhost:8080/"
        },
        "id": "BAobtbvAe5pt",
        "outputId": "420f38c0-737f-49cc-96fe-2e2e5eeacbc8"
      },
      "source": [
        "c = \"y\" #we will be taking user input\n",
        "item_no = len(sales) + 1\n",
        "#user-input\n",
        "print(\"Welcome to IMS\")\n",
        "print()\n",
        "print(\"A - Add an item\")\n",
        "print(\"R - Remove an item\")\n",
        "print(\"L - List all items\")\n",
        "print(\"P - Purchase\")\n",
        "print(\"E - Edit a specific field of a product\")\n",
        "print(\"Q - Quit\")\n",
        "print()\n",
        "#iterate until the user quits\n",
        "while(c != 'q' or c != 'Q'):\n",
        "  c = input(\"Response: \")\n",
        "  \n",
        "  if(c == 'q' or c == 'Q'):\n",
        "    break\n",
        "  #adding an item\n",
        "  elif(c == 'A' or c == 'a'):\n",
        "    prod_id = str(input(\"Enter product id: \"))\n",
        "    name = str(input(\"Enter the name of the product: \"))\n",
        "    qn = int(input(\"Enter the quantity: \"))\n",
        "    pr = int(input(\"Enter the price: \"))\n",
        "\n",
        "    #to check if the item is unique\n",
        "    if prod_id in record.keys():\n",
        "      print(\"An item with this prod_id already exists!\")\n",
        "      print()\n",
        "    else:\n",
        "      #quantity cannot be negative\n",
        "      if(qn < -1):\n",
        "        print(\"The quantity cannot be negative. Setting it to be 0.\")\n",
        "        qn = 0\n",
        "      else:\n",
        "        record[prod_id] = {'name': name, 'qn': qn, 'pr': pr}\n",
        "        print(\"Item added successfully\")\n",
        "        print()\n",
        "\n",
        "    #updating the record.json with new items\n",
        "    js = json.dumps(record)\n",
        "    fd = open(\"record.json\", \"w\")\n",
        "    fd.write(js)\n",
        "    fd.close()\n",
        "\n",
        "  #to remove an item\n",
        "  elif(c == 'r' or c == 'R'):\n",
        "    prod_id = str(input(\"Enter the prod_id of the item to be deleted: \"))\n",
        "    if prod_id in record.keys():\n",
        "      del record[prod_id]\n",
        "      print(\"Item deleted successfully\")\n",
        "\n",
        "      #updating the record.json\n",
        "      js = json.dumps(record)\n",
        "      fd = open(\"record.json\", \"w\")\n",
        "      fd.write(js)\n",
        "      fd.close()\n",
        "    else:\n",
        "      print(\"No item with this prod_id registered.\")\n",
        "  #display the items\n",
        "  elif(c == 'l' or c == \"L\"):\n",
        "    for item in record.items():\n",
        "      print(item)\n",
        "  #purchasing an item\n",
        "  elif(c == 'p' or c == 'P'):\n",
        "    ui_prod = str(input(\"Enter the product_id: \"))\n",
        "    ui_qn = int(input(\"Enter the quantity: \"))\n",
        "\n",
        "    #generating an invoice\n",
        "    print()\n",
        "    print(\"Details linked with the entered id: \")\n",
        "    print(\"Product name: \", record[ui_prod]['name'])\n",
        "    print(\"Price: \", record[ui_prod]['pr'])\n",
        "    bill_amt = record[ui_prod]['pr'] * ui_qn\n",
        "    print(\"Total amount to be paid: \", bill_amt)\n",
        "    bill_time = strftime(\"%H:%M:%S\", gmtime())\n",
        "    bill_date = strftime(\"%d %b %Y\", gmtime())\n",
        "    print(\"Bill Time: \", bill_time)\n",
        "    print(\"Bill Date: \", bill_date)\n",
        "    print()\n",
        "\n",
        "    #updating the inventory after purchase\n",
        "    record[ui_prod]['qn'] = record[ui_prod]['qn'] - ui_qn\n",
        "    js = json.dumps(record)\n",
        "    fd = open(\"record.json\", \"w\")\n",
        "    fd.write(js)\n",
        "    fd.close()\n",
        "\n",
        "    sales[item_no] = {'prod_id': ui_prod, 'name': record[ui_prod]['name'], 'qn': ui_qn, 'billing_amt': bill_amt, 'time_of_purchase': bill_time, 'date_of_purchase': bill_date}\n",
        "    item_no += 1\n",
        "    #updating sales.json\n",
        "    js = json.dumps(sales)\n",
        "    fd = open(\"sales.json\", \"w\")\n",
        "    fd.write(js)\n",
        "    fd.close()\n",
        "\n",
        "  #to edit a specific field of an entry\n",
        "  elif(c == 'e' or c == 'E'):\n",
        "    prod_id = str(input(\"Enter the id of the product to be altered: \"))\n",
        "    \n",
        "    #checking if a product with that prod_id exists\n",
        "    if prod_id in record.keys():\n",
        "      field = str(input(\"Enter the field you want to edit: \"))\n",
        "      \n",
        "      if(field == 'name' or field == 'qn' or field == 'pr'):\n",
        "        \n",
        "        if(field == 'name'):\n",
        "          edit = str(input(\"Change it to? \"))\n",
        "        else:\n",
        "          edit = int(input(\"Change it to? \"))\n",
        "\n",
        "        record[prod_id][field] = edit\n",
        "        print(\"Updated successfully\")\n",
        "        \n",
        "      elif(field == 'prod_id'):\n",
        "        print(\"You cannot change the prod_id.\")\n",
        "        print(\"Please delete the entry with this prod_id and add a new entry.\")\n",
        "        print()\n",
        "      else:\n",
        "        print()\n",
        "        print(\"Field selected does not exist.\")\n",
        "        print(\"Try again and choose from the following: \")\n",
        "        print(\"--> name\")\n",
        "        print(\"--> qn\")\n",
        "        print(\"--> pr\")\n",
        "        print()\n",
        "    else:\n",
        "      print(\"No item with this prod_id exists.\")\n",
        "\n",
        "    #updating the record.json with new items\n",
        "    js = json.dumps(record)\n",
        "    fd = open(\"record.json\", \"w\")\n",
        "    fd.write(js)\n",
        "    fd.close()  "
      ],
      "execution_count": null,
      "outputs": [
        {
          "output_type": "stream",
          "name": "stdout",
          "text": [
            "Welcome to IMS\n",
            "\n",
            "A - Add an item\n",
            "R - Remove an item\n",
            "L - List all items\n",
            "P - Purchase\n",
            "E - Edit a specific field of a product\n",
            "Q - Quit\n",
            "\n"
          ]
        }
      ]
    }
  ]
}
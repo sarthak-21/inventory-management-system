{
  "nbformat": 4,
  "nbformat_minor": 0,
  "metadata": {
    "colab": {
      "name": "Inventory Managment System.ipynb",
      "provenance": []
    },
    "kernelspec": {
      "name": "python3",
      "display_name": "Python 3"
    },
    "language_info": {
      "name": "python"
    }
  },
  "cells": [
    {
      "cell_type": "markdown",
      "metadata": {
        "id": "Beey7if-15CV"
      },
      "source": [
        "# Inventory Management System\n",
        "#### Submitted by Sarthak Luthra.\n",
        "Read the comments to understand the code."
      ]
    },
    {
      "cell_type": "code",
      "metadata": {
        "id": "SJiTPHZsXyqK"
      },
      "source": [
        "import json\n",
        "from time import gmtime, strftime\n",
        "fd = open('record.json', 'r')\n",
        "r = fd.read()\n",
        "fd.close()"
      ],
      "execution_count": 114,
      "outputs": []
    },
    {
      "cell_type": "code",
      "metadata": {
        "id": "bk85pkErcI7k"
      },
      "source": [
        "#Converting json in dict\n",
        "record = json.loads(r)"
      ],
      "execution_count": 115,
      "outputs": []
    },
    {
      "cell_type": "code",
      "metadata": {
        "id": "J9qVX8x7e2MZ"
      },
      "source": [
        "fs = open('sales.json', 'r')\n",
        "p = fs.read()\n",
        "fs.close()"
      ],
      "execution_count": 116,
      "outputs": []
    },
    {
      "cell_type": "code",
      "metadata": {
        "id": "IAQogdR61Rau"
      },
      "source": [
        "sales = json.loads(p)"
      ],
      "execution_count": 118,
      "outputs": []
    },
    {
      "cell_type": "code",
      "metadata": {
        "colab": {
          "base_uri": "https://localhost:8080/"
        },
        "id": "DI48gg8ieXR2",
        "outputId": "e6a70842-a36d-486e-e448-b7024c250aea"
      },
      "source": [
        "c = \"y\" #we will be taking user input\n",
        "item_no = len(sales)\n",
        "#user-input\n",
        "print(\"Welcome to IMS\")\n",
        "print()\n",
        "print(\"A-Add an item\")\n",
        "print(\"R-Remove an item\")\n",
        "print(\"L-List all items\")\n",
        "print(\"P-Purchase\")\n",
        "print(\"Q-Quit\")\n",
        "print()"
      ],
      "execution_count": 119,
      "outputs": [
        {
          "output_type": "stream",
          "name": "stdout",
          "text": [
            "Welcome to IMS\n",
            "\n",
            "A-Add an item\n",
            "R-Remove an item\n",
            "L-List all items\n",
            "P-Purchase\n",
            "Q-Quit\n",
            "\n"
          ]
        }
      ]
    },
    {
      "cell_type": "code",
      "metadata": {
        "colab": {
          "base_uri": "https://localhost:8080/"
        },
        "id": "BAobtbvAe5pt",
        "outputId": "f4fb9c54-d529-453b-a640-165ba4eadd26"
      },
      "source": [
        "#iterate until the user quits\n",
        "while(c != 'q' or c != 'Q'):\n",
        "  c = input(\"Response: \")\n",
        "  \n",
        "  if(c == 'q' or c == 'Q'):\n",
        "    break\n",
        "  #adding an item\n",
        "  elif(c == 'A' or c == 'a'):\n",
        "    prod_id = str(input(\"Enter product id: \"))\n",
        "    name = str(input(\"Enter the name of the product: \"))\n",
        "    qn = int(input(\"Enter the quantity: \"))\n",
        "    pr = int(input(\"Enter the price: \"))\n",
        "\n",
        "    #to check if the item is unique\n",
        "    if prod_id in record.keys():\n",
        "      print(\"An item with this prod_id already exists!\")\n",
        "    else:\n",
        "      #quantity cannot be negative\n",
        "      if(qn < -1):\n",
        "        print(\"The quantity cannot be negative. Setting it to be 0.\")\n",
        "        qn = 0\n",
        "    record[prod_id] = {'name': name, 'qn': qn, 'pr': pr}\n",
        "    print(\"Item added successfully\")\n",
        "    print()\n",
        "\n",
        "    #updating the record.json with new items\n",
        "    js = json.dumps(record)\n",
        "    fd = open(\"record.json\", \"w\")\n",
        "    fd.write(js)\n",
        "    fd.close()\n",
        "\n",
        "  #to remove an item\n",
        "  elif(c == 'r' or c == 'R'):\n",
        "    prod_id = str(input(\"Enter the prod_id of the item to be deleted: \"))\n",
        "    if prod_id in record.keys():\n",
        "      del record[prod_id]\n",
        "      print(\"Item deleted successfully\")\n",
        "\n",
        "      #updating the record.json\n",
        "      js = json.dumps(record)\n",
        "      fd = open(\"record.json\", \"w\")\n",
        "      fd.write(js)\n",
        "      fd.close()\n",
        "    else:\n",
        "      print(\"No item with this prod_id registered.\")\n",
        "  #display the items\n",
        "  elif(c == 'l' or c == \"L\"):\n",
        "    for item in record.items():\n",
        "      print(item)\n",
        "  #purchasing an item\n",
        "  elif(c == 'p' or c == 'P'):\n",
        "    ui_prod = str(input(\"Enter the product_id: \"))\n",
        "    ui_qn = int(input(\"Enter the quantity: \"))\n",
        "\n",
        "    #generating an invoice\n",
        "    print()\n",
        "    print(\"Details linked with the entered id: \")\n",
        "    print(\"Product name: \", record[ui_prod]['name'])\n",
        "    print(\"Price: \", record[ui_prod]['pr'])\n",
        "    bill_amt = record[ui_prod]['pr'] * ui_qn\n",
        "    print(\"Total amount to be paid: \", bill_amt)\n",
        "    bill_time = strftime(\"%H:%M:%S\", gmtime())\n",
        "    bill_date = strftime(\"%d %b %Y\", gmtime())\n",
        "    print(\"Bill Time: \", bill_time)\n",
        "    print(\"Bill Date: \", bill_date)\n",
        "    print()\n",
        "\n",
        "    #updating the inventory after purchase\n",
        "    record[ui_prod]['qn'] = record[ui_prod]['qn'] - ui_qn\n",
        "    js = json.dumps(record)\n",
        "    fd = open(\"record.json\", \"w\")\n",
        "    fd.write(js)\n",
        "    fd.close()\n",
        "\n",
        "    sales[item_no] = {'prod_id': ui_prod, 'name': record[ui_prod]['name'], 'qn': ui_qn, 'billing_amt': bill_amt, 'time_of_purchase': bill_time, 'date_of_purchase': bill_date}\n",
        "    item_no += 1\n",
        "    #updating sales.json\n",
        "    js = json.dumps(sales)\n",
        "    fd = open(\"sales.json\", \"w\")\n",
        "    fd.write(js)\n",
        "    fd.close()\n"
      ],
      "execution_count": 120,
      "outputs": [
        {
          "name": "stdout",
          "output_type": "stream",
          "text": [
            "Response: l\n",
            "('1001', {'name': 'Choco Cake', 'qn': 34, 'pr': 100})\n",
            "('1002', {'name': 'Strawberry Cake', 'qn': 10, 'pr': 400})\n",
            "('1003', {'name': 'Cheese Cake', 'qn': 20, 'pr': 500})\n",
            "('1004', {'name': 'Dark Chocolate Cake', 'qn': 40, 'pr': 600})\n",
            "('1005', {'name': 'Black forest Cake', 'qn': 80, 'pr': 200})\n",
            "('1006', {'name': 'Choco Lava Cake', 'qn': 10, 'pr': 100})\n",
            "('1007', {'name': 'Vanilla Cake', 'qn': 20, 'pr': 100})\n",
            "('1008', {'name': 'Pineapple Cake', 'qn': 10, 'pr': 400})\n",
            "('1009', {'name': 'Red valvet Cake', 'qn': 10, 'pr': 100})\n",
            "('1010', {'name': 'Bread', 'qn': 10, 'pr': 2500})\n",
            "('1011', {'name': 'Donut', 'qn': 10, 'pr': 100})\n",
            "('1012', {'name': 'Cheetos', 'qn': 5, 'pr': 500})\n",
            "('1013', {'name': 'Doritos', 'qn': 20, 'pr': 550})\n",
            "('1014', {'name': 'Maggie', 'qn': 5, 'pr': 100})\n",
            "('1015', {'name': 'Lays', 'qn': 5, 'pr': 200})\n",
            "('1016', {'name': \"Hershy's syrup\", 'qn': 15, 'pr': 900})\n",
            "('1017', {'name': 'Coca cola', 'qn': 15, 'pr': 200})\n",
            "('1018', {'name': 'Truffle cake', 'qn': 10, 'pr': 100})\n",
            "('1019', {'name': 'Frooti', 'qn': 15, 'pr': 150})\n",
            "('1020', {'name': 'Slice', 'qn': 15, 'pr': 100})\n",
            "('1021', {'name': 'Sprite', 'qn': 15, 'pr': 300})\n",
            "('1022', {'name': 'Nimbus', 'qn': 15, 'pr': 100})\n",
            "('1023', {'name': 'Dairy milk', 'qn': 1, 'pr': 700})\n",
            "('1024', {'name': '5 Star', 'qn': 4, 'pr': 100})\n",
            "('1025', {'name': 'Coffee', 'qn': 2, 'pr': 279})\n",
            "('1026', {'name': 'Bru', 'qn': 4, 'pr': 100})\n",
            "('1027', {'name': 'Nescafe', 'qn': 3, 'pr': 650})\n",
            "('1028', {'name': 'Water', 'qn': 4, 'pr': 359})\n",
            "('1029', {'name': 'Burger', 'qn': 4, 'pr': 100})\n",
            "('1030', {'name': 'Pizza', 'qn': 4, 'pr': 800})\n",
            "Response: r\n",
            "Enter the prod_id of the item to be deleted: 1030\n",
            "Item deleted successfully\n",
            "Response: l\n",
            "('1001', {'name': 'Choco Cake', 'qn': 34, 'pr': 100})\n",
            "('1002', {'name': 'Strawberry Cake', 'qn': 10, 'pr': 400})\n",
            "('1003', {'name': 'Cheese Cake', 'qn': 20, 'pr': 500})\n",
            "('1004', {'name': 'Dark Chocolate Cake', 'qn': 40, 'pr': 600})\n",
            "('1005', {'name': 'Black forest Cake', 'qn': 80, 'pr': 200})\n",
            "('1006', {'name': 'Choco Lava Cake', 'qn': 10, 'pr': 100})\n",
            "('1007', {'name': 'Vanilla Cake', 'qn': 20, 'pr': 100})\n",
            "('1008', {'name': 'Pineapple Cake', 'qn': 10, 'pr': 400})\n",
            "('1009', {'name': 'Red valvet Cake', 'qn': 10, 'pr': 100})\n",
            "('1010', {'name': 'Bread', 'qn': 10, 'pr': 2500})\n",
            "('1011', {'name': 'Donut', 'qn': 10, 'pr': 100})\n",
            "('1012', {'name': 'Cheetos', 'qn': 5, 'pr': 500})\n",
            "('1013', {'name': 'Doritos', 'qn': 20, 'pr': 550})\n",
            "('1014', {'name': 'Maggie', 'qn': 5, 'pr': 100})\n",
            "('1015', {'name': 'Lays', 'qn': 5, 'pr': 200})\n",
            "('1016', {'name': \"Hershy's syrup\", 'qn': 15, 'pr': 900})\n",
            "('1017', {'name': 'Coca cola', 'qn': 15, 'pr': 200})\n",
            "('1018', {'name': 'Truffle cake', 'qn': 10, 'pr': 100})\n",
            "('1019', {'name': 'Frooti', 'qn': 15, 'pr': 150})\n",
            "('1020', {'name': 'Slice', 'qn': 15, 'pr': 100})\n",
            "('1021', {'name': 'Sprite', 'qn': 15, 'pr': 300})\n",
            "('1022', {'name': 'Nimbus', 'qn': 15, 'pr': 100})\n",
            "('1023', {'name': 'Dairy milk', 'qn': 1, 'pr': 700})\n",
            "('1024', {'name': '5 Star', 'qn': 4, 'pr': 100})\n",
            "('1025', {'name': 'Coffee', 'qn': 2, 'pr': 279})\n",
            "('1026', {'name': 'Bru', 'qn': 4, 'pr': 100})\n",
            "('1027', {'name': 'Nescafe', 'qn': 3, 'pr': 650})\n",
            "('1028', {'name': 'Water', 'qn': 4, 'pr': 359})\n",
            "('1029', {'name': 'Burger', 'qn': 4, 'pr': 100})\n",
            "Response: a\n",
            "Enter product id: 1030\n",
            "Enter the name of the product: Pizza\n",
            "Enter the quantity: 4\n",
            "Enter the price: 200\n",
            "Response: l\n",
            "('1001', {'name': 'Choco Cake', 'qn': 34, 'pr': 100})\n",
            "('1002', {'name': 'Strawberry Cake', 'qn': 10, 'pr': 400})\n",
            "('1003', {'name': 'Cheese Cake', 'qn': 20, 'pr': 500})\n",
            "('1004', {'name': 'Dark Chocolate Cake', 'qn': 40, 'pr': 600})\n",
            "('1005', {'name': 'Black forest Cake', 'qn': 80, 'pr': 200})\n",
            "('1006', {'name': 'Choco Lava Cake', 'qn': 10, 'pr': 100})\n",
            "('1007', {'name': 'Vanilla Cake', 'qn': 20, 'pr': 100})\n",
            "('1008', {'name': 'Pineapple Cake', 'qn': 10, 'pr': 400})\n",
            "('1009', {'name': 'Red valvet Cake', 'qn': 10, 'pr': 100})\n",
            "('1010', {'name': 'Bread', 'qn': 10, 'pr': 2500})\n",
            "('1011', {'name': 'Donut', 'qn': 10, 'pr': 100})\n",
            "('1012', {'name': 'Cheetos', 'qn': 5, 'pr': 500})\n",
            "('1013', {'name': 'Doritos', 'qn': 20, 'pr': 550})\n",
            "('1014', {'name': 'Maggie', 'qn': 5, 'pr': 100})\n",
            "('1015', {'name': 'Lays', 'qn': 5, 'pr': 200})\n",
            "('1016', {'name': \"Hershy's syrup\", 'qn': 15, 'pr': 900})\n",
            "('1017', {'name': 'Coca cola', 'qn': 15, 'pr': 200})\n",
            "('1018', {'name': 'Truffle cake', 'qn': 10, 'pr': 100})\n",
            "('1019', {'name': 'Frooti', 'qn': 15, 'pr': 150})\n",
            "('1020', {'name': 'Slice', 'qn': 15, 'pr': 100})\n",
            "('1021', {'name': 'Sprite', 'qn': 15, 'pr': 300})\n",
            "('1022', {'name': 'Nimbus', 'qn': 15, 'pr': 100})\n",
            "('1023', {'name': 'Dairy milk', 'qn': 1, 'pr': 700})\n",
            "('1024', {'name': '5 Star', 'qn': 4, 'pr': 100})\n",
            "('1025', {'name': 'Coffee', 'qn': 2, 'pr': 279})\n",
            "('1026', {'name': 'Bru', 'qn': 4, 'pr': 100})\n",
            "('1027', {'name': 'Nescafe', 'qn': 3, 'pr': 650})\n",
            "('1028', {'name': 'Water', 'qn': 4, 'pr': 359})\n",
            "('1029', {'name': 'Burger', 'qn': 4, 'pr': 100})\n",
            "('1030', {'name': 'Pizza', 'pr': 200, 'qn': 4})\n",
            "Response: q\n"
          ]
        }
      ]
    }
  ]
}
